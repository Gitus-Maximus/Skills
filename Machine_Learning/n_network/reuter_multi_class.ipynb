{
 "cells": [
  {
   "cell_type": "code",
   "execution_count": 1,
   "metadata": {},
   "outputs": [],
   "source": [
    "from keras.datasets import reuters\n",
    "import numpy as np\n",
    "from keras import models\n",
    "from keras import layers\n",
    "from keras.utils.np_utils import to_categorical\n",
    "import matplotlib.pyplot as plt"
   ]
  },
  {
   "cell_type": "code",
   "execution_count": 2,
   "metadata": {},
   "outputs": [],
   "source": [
    "(train_data, train_labels), (test_data, test_labels) = reuters.load_data(num_words=10000)"
   ]
  },
  {
   "cell_type": "code",
   "execution_count": 3,
   "metadata": {},
   "outputs": [
    {
     "data": {
      "text/plain": [
       "8982"
      ]
     },
     "execution_count": 3,
     "metadata": {},
     "output_type": "execute_result"
    }
   ],
   "source": [
    "len(train_data)"
   ]
  },
  {
   "cell_type": "code",
   "execution_count": 4,
   "metadata": {},
   "outputs": [
    {
     "data": {
      "text/plain": [
       "2246"
      ]
     },
     "execution_count": 4,
     "metadata": {},
     "output_type": "execute_result"
    }
   ],
   "source": [
    "len(test_data)"
   ]
  },
  {
   "cell_type": "code",
   "execution_count": 5,
   "metadata": {},
   "outputs": [
    {
     "data": {
      "text/plain": [
       "[1,\n",
       " 2,\n",
       " 2,\n",
       " 8,\n",
       " 43,\n",
       " 10,\n",
       " 447,\n",
       " 5,\n",
       " 25,\n",
       " 207,\n",
       " 270,\n",
       " 5,\n",
       " 3095,\n",
       " 111,\n",
       " 16,\n",
       " 369,\n",
       " 186,\n",
       " 90,\n",
       " 67,\n",
       " 7,\n",
       " 89,\n",
       " 5,\n",
       " 19,\n",
       " 102,\n",
       " 6,\n",
       " 19,\n",
       " 124,\n",
       " 15,\n",
       " 90,\n",
       " 67,\n",
       " 84,\n",
       " 22,\n",
       " 482,\n",
       " 26,\n",
       " 7,\n",
       " 48,\n",
       " 4,\n",
       " 49,\n",
       " 8,\n",
       " 864,\n",
       " 39,\n",
       " 209,\n",
       " 154,\n",
       " 6,\n",
       " 151,\n",
       " 6,\n",
       " 83,\n",
       " 11,\n",
       " 15,\n",
       " 22,\n",
       " 155,\n",
       " 11,\n",
       " 15,\n",
       " 7,\n",
       " 48,\n",
       " 9,\n",
       " 4579,\n",
       " 1005,\n",
       " 504,\n",
       " 6,\n",
       " 258,\n",
       " 6,\n",
       " 272,\n",
       " 11,\n",
       " 15,\n",
       " 22,\n",
       " 134,\n",
       " 44,\n",
       " 11,\n",
       " 15,\n",
       " 16,\n",
       " 8,\n",
       " 197,\n",
       " 1245,\n",
       " 90,\n",
       " 67,\n",
       " 52,\n",
       " 29,\n",
       " 209,\n",
       " 30,\n",
       " 32,\n",
       " 132,\n",
       " 6,\n",
       " 109,\n",
       " 15,\n",
       " 17,\n",
       " 12]"
      ]
     },
     "execution_count": 5,
     "metadata": {},
     "output_type": "execute_result"
    }
   ],
   "source": [
    "train_data[0]"
   ]
  },
  {
   "cell_type": "code",
   "execution_count": 6,
   "metadata": {},
   "outputs": [],
   "source": [
    "word_index = reuters.get_word_index()\n",
    "reverse_word_index = dict([(value, key) for (key, value) in word_index.items()])\n",
    "decoded_newswire=''.join([reverse_word_index.get(i - 3, '?')\n",
    "                         for i in train_data[1]])"
   ]
  },
  {
   "cell_type": "code",
   "execution_count": 7,
   "metadata": {},
   "outputs": [
    {
     "data": {
      "text/plain": [
       "'?generaledebanquesalt?brandlthelleroverseascorpofchicagohaveeachtaken50pctstakesin?companysa?factorsgeneraledebanquesaidinastatementitgavenofinancialdetailsofthetransactionsa??turnoverin1986was175billionbelgianfrancsreuter3'"
      ]
     },
     "execution_count": 7,
     "metadata": {},
     "output_type": "execute_result"
    }
   ],
   "source": [
    "decoded_newswire"
   ]
  },
  {
   "cell_type": "code",
   "execution_count": 8,
   "metadata": {},
   "outputs": [
    {
     "data": {
      "text/plain": [
       "3"
      ]
     },
     "execution_count": 8,
     "metadata": {},
     "output_type": "execute_result"
    }
   ],
   "source": [
    "train_labels[10]"
   ]
  },
  {
   "cell_type": "code",
   "execution_count": 9,
   "metadata": {},
   "outputs": [],
   "source": [
    "def vectorize_sequences(sequences, dimension=10000):\n",
    "    results = np.zeros((len(sequences), dimension))\n",
    "    for i, sequence in enumerate(sequences):\n",
    "        results[i, sequence] = 1.\n",
    "    return results\n",
    "\n",
    "x_train = vectorize_sequences(train_data)\n",
    "x_test = vectorize_sequences(test_data)"
   ]
  },
  {
   "cell_type": "code",
   "execution_count": 10,
   "metadata": {},
   "outputs": [],
   "source": [
    "one_hot_train_labels = to_categorical(train_labels)\n",
    "one_hot_test_labels = to_categorical(test_labels)"
   ]
  },
  {
   "cell_type": "code",
   "execution_count": 11,
   "metadata": {},
   "outputs": [],
   "source": [
    "model = models.Sequential()\n",
    "model.add(layers.Dense(64, activation='relu', input_shape=(10000,)))\n",
    "model.add(layers.Dense(64, activation='relu'))\n",
    "model.add(layers.Dense(46, activation='softmax'))"
   ]
  },
  {
   "cell_type": "code",
   "execution_count": 12,
   "metadata": {},
   "outputs": [],
   "source": [
    "model.compile(optimizer='rmsprop',\n",
    "             loss='categorical_crossentropy',\n",
    "             metrics=['accuracy'])"
   ]
  },
  {
   "cell_type": "code",
   "execution_count": 13,
   "metadata": {},
   "outputs": [],
   "source": [
    "x_val = x_train[:1000]\n",
    "partial_x_train = x_train[1000:]\n",
    "# This code block create control label\n",
    "y_val = one_hot_train_labels[:1000]\n",
    "partial_y_train = one_hot_train_labels[1000:]"
   ]
  },
  {
   "cell_type": "code",
   "execution_count": 14,
   "metadata": {},
   "outputs": [
    {
     "name": "stdout",
     "output_type": "stream",
     "text": [
      "Epoch 1/20\n",
      "16/16 [==============================] - 0s 31ms/step - loss: 2.4565 - accuracy: 0.5312 - val_loss: 1.6653 - val_accuracy: 0.6470\n",
      "Epoch 2/20\n",
      "16/16 [==============================] - 0s 22ms/step - loss: 1.3858 - accuracy: 0.6964 - val_loss: 1.2959 - val_accuracy: 0.7100\n",
      "Epoch 3/20\n",
      "16/16 [==============================] - 0s 21ms/step - loss: 1.0487 - accuracy: 0.7716 - val_loss: 1.1889 - val_accuracy: 0.7290\n",
      "Epoch 4/20\n",
      "16/16 [==============================] - 0s 20ms/step - loss: 0.8371 - accuracy: 0.8170 - val_loss: 1.0551 - val_accuracy: 0.7620\n",
      "Epoch 5/20\n",
      "16/16 [==============================] - 0s 21ms/step - loss: 0.6712 - accuracy: 0.8596 - val_loss: 0.9866 - val_accuracy: 0.7910\n",
      "Epoch 6/20\n",
      "16/16 [==============================] - 0s 19ms/step - loss: 0.5349 - accuracy: 0.8882 - val_loss: 0.9593 - val_accuracy: 0.8050\n",
      "Epoch 7/20\n",
      "16/16 [==============================] - 0s 25ms/step - loss: 0.4302 - accuracy: 0.9107 - val_loss: 0.9459 - val_accuracy: 0.8020\n",
      "Epoch 8/20\n",
      "16/16 [==============================] - 0s 20ms/step - loss: 0.3428 - accuracy: 0.9300 - val_loss: 0.9364 - val_accuracy: 0.8120\n",
      "Epoch 9/20\n",
      "16/16 [==============================] - 0s 21ms/step - loss: 0.2906 - accuracy: 0.9385 - val_loss: 0.9162 - val_accuracy: 0.8120\n",
      "Epoch 10/20\n",
      "16/16 [==============================] - 0s 20ms/step - loss: 0.2371 - accuracy: 0.9455 - val_loss: 0.9258 - val_accuracy: 0.8160\n",
      "Epoch 11/20\n",
      "16/16 [==============================] - 0s 21ms/step - loss: 0.2044 - accuracy: 0.9503 - val_loss: 0.9503 - val_accuracy: 0.8180\n",
      "Epoch 12/20\n",
      "16/16 [==============================] - 0s 22ms/step - loss: 0.1797 - accuracy: 0.9525 - val_loss: 0.9541 - val_accuracy: 0.8150\n",
      "Epoch 13/20\n",
      "16/16 [==============================] - 0s 22ms/step - loss: 0.1616 - accuracy: 0.9550 - val_loss: 0.9999 - val_accuracy: 0.8070\n",
      "Epoch 14/20\n",
      "16/16 [==============================] - 0s 21ms/step - loss: 0.1498 - accuracy: 0.9548 - val_loss: 1.0079 - val_accuracy: 0.8080\n",
      "Epoch 15/20\n",
      "16/16 [==============================] - 0s 21ms/step - loss: 0.1412 - accuracy: 0.9559 - val_loss: 1.0311 - val_accuracy: 0.8060\n",
      "Epoch 16/20\n",
      "16/16 [==============================] - 0s 20ms/step - loss: 0.1308 - accuracy: 0.9549 - val_loss: 1.0354 - val_accuracy: 0.8040\n",
      "Epoch 17/20\n",
      "16/16 [==============================] - 0s 20ms/step - loss: 0.1196 - accuracy: 0.9587 - val_loss: 1.0702 - val_accuracy: 0.8040\n",
      "Epoch 18/20\n",
      "16/16 [==============================] - 0s 24ms/step - loss: 0.1199 - accuracy: 0.9580 - val_loss: 1.1047 - val_accuracy: 0.7930\n",
      "Epoch 19/20\n",
      "16/16 [==============================] - 0s 24ms/step - loss: 0.1168 - accuracy: 0.9559 - val_loss: 1.1331 - val_accuracy: 0.8010\n",
      "Epoch 20/20\n",
      "16/16 [==============================] - 0s 19ms/step - loss: 0.1125 - accuracy: 0.9585 - val_loss: 1.0707 - val_accuracy: 0.8090\n"
     ]
    }
   ],
   "source": [
    "history = model.fit(partial_x_train,\n",
    "                   partial_y_train,\n",
    "                   epochs=20,\n",
    "                   batch_size=512,\n",
    "                   validation_data=(x_val, y_val))"
   ]
  },
  {
   "cell_type": "code",
   "execution_count": 15,
   "metadata": {},
   "outputs": [
    {
     "data": {
      "image/png": "[encoded data removed]",
      "text/plain": [
       "<Figure size 432x288 with 1 Axes>"
      ]
     },
     "metadata": {
      "needs_background": "light"
     },
     "output_type": "display_data"
    }
   ],
   "source": [
    "loss = history.history['loss']\n",
    "val_loss = history.history['val_loss']\n",
    "\n",
    "epochs = range(1, len(loss) + 1)\n",
    "plt.plot(epochs, loss, 'bo', label='Train Loss')\n",
    "plt.plot(epochs, val_loss, 'b', label='Validation Loss')\n",
    "plt.title('Train & Validation Loss')\n",
    "plt.xlabel('Epochs')\n",
    "plt.ylabel('Loss')\n",
    "plt.legend()\n",
    "\n",
    "plt.show()"
   ]
  },
  {
   "cell_type": "code",
   "execution_count": 16,
   "metadata": {},
   "outputs": [
    {
     "data": {
      "image/png": "[encoded data removed]",
      "text/plain": [
       "<Figure size 432x288 with 1 Axes>"
      ]
     },
     "metadata": {
      "needs_background": "light"
     },
     "output_type": "display_data"
    }
   ],
   "source": [
    "plt.clf()\n",
    "\n",
    "acc = history.history['accuracy']\n",
    "acc_val = history.history['val_accuracy']\n",
    "\n",
    "plt.plot(epochs, acc, 'bo', label='Train Accurate')\n",
    "plt.plot(epochs, acc_val, 'b', label='Validation Accurate')\n",
    "plt.title('Train & Validation Accurate')\n",
    "plt.xlabel('Epochs')\n",
    "plt.ylabel('Loss')\n",
    "plt.legend()\n",
    "\n",
    "plt.show()"
   ]
  },
  {
   "cell_type": "code",
   "execution_count": 17,
   "metadata": {},
   "outputs": [],
   "source": [
    "# After 9 epochs NN is overfitted, I will do it again and stopped at 8 epochs then try with test data"
   ]
  },
  {
   "cell_type": "code",
   "execution_count": 18,
   "metadata": {},
   "outputs": [],
   "source": [
    "model = models.Sequential()\n",
    "model.add(layers.Dense(64, activation='relu', input_shape=(10000,)))\n",
    "model.add(layers.Dense(64, activation='relu'))\n",
    "model.add(layers.Dense(46, activation='softmax'))\n",
    "\n",
    "model.compile(optimizer='rmsprop',\n",
    "             loss='categorical_crossentropy',\n",
    "             metrics=['accuracy'])"
   ]
  },
  {
   "cell_type": "code",
   "execution_count": 19,
   "metadata": {},
   "outputs": [
    {
     "name": "stdout",
     "output_type": "stream",
     "text": [
      "Epoch 1/8\n",
      "16/16 [==============================] - 0s 23ms/step - loss: 2.6191 - accuracy: 0.5130 - val_loss: 1.7269 - val_accuracy: 0.6370\n",
      "Epoch 2/8\n",
      "16/16 [==============================] - 0s 20ms/step - loss: 1.4273 - accuracy: 0.7046 - val_loss: 1.3130 - val_accuracy: 0.7050\n",
      "Epoch 3/8\n",
      "16/16 [==============================] - 0s 20ms/step - loss: 1.0641 - accuracy: 0.7699 - val_loss: 1.1488 - val_accuracy: 0.7450\n",
      "Epoch 4/8\n",
      "16/16 [==============================] - 0s 20ms/step - loss: 0.8454 - accuracy: 0.8213 - val_loss: 1.0447 - val_accuracy: 0.7720\n",
      "Epoch 5/8\n",
      "16/16 [==============================] - 0s 20ms/step - loss: 0.6770 - accuracy: 0.8568 - val_loss: 0.9919 - val_accuracy: 0.7790\n",
      "Epoch 6/8\n",
      "16/16 [==============================] - 0s 20ms/step - loss: 0.5459 - accuracy: 0.8859 - val_loss: 0.9414 - val_accuracy: 0.7970\n",
      "Epoch 7/8\n",
      "16/16 [==============================] - 0s 20ms/step - loss: 0.4404 - accuracy: 0.9073 - val_loss: 0.9232 - val_accuracy: 0.8130\n",
      "Epoch 8/8\n",
      "16/16 [==============================] - 0s 20ms/step - loss: 0.3620 - accuracy: 0.9226 - val_loss: 0.9225 - val_accuracy: 0.8170\n",
      "71/71 [==============================] - 0s 2ms/step - loss: 0.9965 - accuracy: 0.7814\n"
     ]
    }
   ],
   "source": [
    "model.fit(partial_x_train,\n",
    "         partial_y_train,\n",
    "         epochs=8,\n",
    "         batch_size=512,\n",
    "         validation_data=(x_val, y_val))\n",
    "results = model.evaluate(x_test, one_hot_test_labels)"
   ]
  },
  {
   "cell_type": "code",
   "execution_count": 20,
   "metadata": {},
   "outputs": [
    {
     "data": {
      "text/plain": [
       "[0.9964550733566284, 0.7813891172409058]"
      ]
     },
     "execution_count": 20,
     "metadata": {},
     "output_type": "execute_result"
    }
   ],
   "source": [
    "results"
   ]
  },
  {
   "cell_type": "code",
   "execution_count": 21,
   "metadata": {},
   "outputs": [
    {
     "data": {
      "text/plain": [
       "0.18432769367764915"
      ]
     },
     "execution_count": 21,
     "metadata": {},
     "output_type": "execute_result"
    }
   ],
   "source": [
    "import copy\n",
    "test_labels_copy = copy.copy(test_labels)\n",
    "np.random.shuffle(test_labels_copy)\n",
    "hits_array = np.array(test_labels) == np.array(test_labels_copy) # thats only for fun, check how its work with random classification \n",
    "float(np.sum(hits_array)) / len(test_labels)"
   ]
  },
  {
   "cell_type": "code",
   "execution_count": 22,
   "metadata": {},
   "outputs": [],
   "source": [
    "# NN had accurate 78% when random classification had 18% "
   ]
  },
  {
   "cell_type": "code",
   "execution_count": 23,
   "metadata": {},
   "outputs": [],
   "source": [
    "predictions = model.predict(x_test)"
   ]
  },
  {
   "cell_type": "code",
   "execution_count": 24,
   "metadata": {},
   "outputs": [
    {
     "data": {
      "text/plain": [
       "(46,)"
      ]
     },
     "execution_count": 24,
     "metadata": {},
     "output_type": "execute_result"
    }
   ],
   "source": [
    "predictions[0].shape"
   ]
  },
  {
   "cell_type": "code",
   "execution_count": 25,
   "metadata": {},
   "outputs": [
    {
     "data": {
      "text/plain": [
       "1.0"
      ]
     },
     "execution_count": 25,
     "metadata": {},
     "output_type": "execute_result"
    }
   ],
   "source": [
    "np.sum(predictions[0])"
   ]
  },
  {
   "cell_type": "code",
   "execution_count": 26,
   "metadata": {},
   "outputs": [
    {
     "data": {
      "text/plain": [
       "3"
      ]
     },
     "execution_count": 26,
     "metadata": {},
     "output_type": "execute_result"
    }
   ],
   "source": [
    "np.argmax(predictions[0])"
   ]
  },
  {
   "cell_type": "code",
   "execution_count": 27,
   "metadata": {},
   "outputs": [],
   "source": [
    "y_train = np.array(train_labels)\n",
    "y_test = np.array(test_labels)"
   ]
  },
  {
   "cell_type": "code",
   "execution_count": 28,
   "metadata": {},
   "outputs": [],
   "source": [
    "model.compile(optimizer='rmsprop',\n",
    "             loss='sparse_categorical_crossentropy',   # When we use integers in vector we need to change a little out loss func, this func work the same way but can work with integers\n",
    "             metrics=['acc'])"
   ]
  },
  {
   "cell_type": "code",
   "execution_count": 30,
   "metadata": {},
   "outputs": [
    {
     "name": "stdout",
     "output_type": "stream",
     "text": [
      "Epoch 1/20\n",
      "63/63 [==============================] - 1s 10ms/step - loss: 3.3103 - accuracy: 0.2273 - val_loss: 2.8098 - val_accuracy: 0.2790\n",
      "Epoch 2/20\n",
      "63/63 [==============================] - 1s 9ms/step - loss: 2.3601 - accuracy: 0.2983 - val_loss: 1.9364 - val_accuracy: 0.6180\n",
      "Epoch 3/20\n",
      "63/63 [==============================] - 1s 9ms/step - loss: 1.5182 - accuracy: 0.6372 - val_loss: 1.4685 - val_accuracy: 0.6510\n",
      "Epoch 4/20\n",
      "63/63 [==============================] - 1s 9ms/step - loss: 1.2398 - accuracy: 0.6807 - val_loss: 1.3878 - val_accuracy: 0.6670\n",
      "Epoch 5/20\n",
      "63/63 [==============================] - 1s 9ms/step - loss: 1.1157 - accuracy: 0.7030 - val_loss: 1.3665 - val_accuracy: 0.6700\n",
      "Epoch 6/20\n",
      "63/63 [==============================] - 1s 9ms/step - loss: 1.0219 - accuracy: 0.7234 - val_loss: 1.3462 - val_accuracy: 0.6940\n",
      "Epoch 7/20\n",
      "63/63 [==============================] - 1s 10ms/step - loss: 0.9418 - accuracy: 0.7353 - val_loss: 1.3287 - val_accuracy: 0.6960\n",
      "Epoch 8/20\n",
      "63/63 [==============================] - 1s 9ms/step - loss: 0.8700 - accuracy: 0.7526 - val_loss: 1.3465 - val_accuracy: 0.7020\n",
      "Epoch 9/20\n",
      "63/63 [==============================] - 1s 9ms/step - loss: 0.8043 - accuracy: 0.7818 - val_loss: 1.3638 - val_accuracy: 0.7060\n",
      "Epoch 10/20\n",
      "63/63 [==============================] - 1s 9ms/step - loss: 0.7499 - accuracy: 0.8049 - val_loss: 1.4055 - val_accuracy: 0.7190\n",
      "Epoch 11/20\n",
      "63/63 [==============================] - 1s 9ms/step - loss: 0.6997 - accuracy: 0.8207 - val_loss: 1.4237 - val_accuracy: 0.7150\n",
      "Epoch 12/20\n",
      "63/63 [==============================] - 1s 9ms/step - loss: 0.6597 - accuracy: 0.8257 - val_loss: 1.4405 - val_accuracy: 0.7190\n",
      "Epoch 13/20\n",
      "63/63 [==============================] - 1s 9ms/step - loss: 0.6199 - accuracy: 0.8336 - val_loss: 1.5103 - val_accuracy: 0.7150\n",
      "Epoch 14/20\n",
      "63/63 [==============================] - 1s 9ms/step - loss: 0.5870 - accuracy: 0.8428 - val_loss: 1.5532 - val_accuracy: 0.7110\n",
      "Epoch 15/20\n",
      "63/63 [==============================] - 1s 9ms/step - loss: 0.5572 - accuracy: 0.8542 - val_loss: 1.5717 - val_accuracy: 0.7140\n",
      "Epoch 16/20\n",
      "63/63 [==============================] - 1s 9ms/step - loss: 0.5298 - accuracy: 0.8624 - val_loss: 1.6294 - val_accuracy: 0.7190\n",
      "Epoch 17/20\n",
      "63/63 [==============================] - 1s 9ms/step - loss: 0.5062 - accuracy: 0.8685 - val_loss: 1.6842 - val_accuracy: 0.7170\n",
      "Epoch 18/20\n",
      "63/63 [==============================] - 1s 9ms/step - loss: 0.4854 - accuracy: 0.8742 - val_loss: 1.7670 - val_accuracy: 0.7140\n",
      "Epoch 19/20\n",
      "63/63 [==============================] - 1s 9ms/step - loss: 0.4642 - accuracy: 0.8794 - val_loss: 1.8095 - val_accuracy: 0.7090\n",
      "Epoch 20/20\n",
      "63/63 [==============================] - 1s 9ms/step - loss: 0.4464 - accuracy: 0.8811 - val_loss: 1.8829 - val_accuracy: 0.7160\n"
     ]
    },
    {
     "data": {
      "text/plain": [
       "<tensorflow.python.keras.callbacks.History at 0x7f7b22868dc0>"
      ]
     },
     "execution_count": 30,
     "metadata": {},
     "output_type": "execute_result"
    }
   ],
   "source": [
    "model = models.Sequential()\n",
    "model.add(layers.Dense(64, activation='relu', input_shape=(10000,)))\n",
    "model.add(layers.Dense(4, activation='relu')) # Let's see what happen when use 4 units before 46 output\n",
    "model.add(layers.Dense(46, activation='softmax'))\n",
    "\n",
    "model.compile(optimizer='rmsprop',\n",
    "             loss='categorical_crossentropy',\n",
    "             metrics=['accuracy'])\n",
    "model.fit(partial_x_train,\n",
    "         partial_y_train,\n",
    "         epochs=20,\n",
    "         batch_size=128,\n",
    "         validation_data=(x_val, y_val))"
   ]
  },
  {
   "cell_type": "code",
   "execution_count": null,
   "metadata": {},
   "outputs": [],
   "source": [
    "# Validation accurate drop down from 79% to 71%, this happened when we use not enough units"
   ]
  },
  {
   "cell_type": "code",
   "execution_count": null,
   "metadata": {},
   "outputs": [],
   "source": [
    "# Let's do it one more time, now i will use only one layer but with 128 units"
   ]
  },
  {
   "cell_type": "code",
   "execution_count": 33,
   "metadata": {},
   "outputs": [
    {
     "name": "stdout",
     "output_type": "stream",
     "text": [
      "Epoch 1/20\n",
      "32/32 [==============================] - 1s 20ms/step - loss: 1.9270 - accuracy: 0.6448 - val_loss: 1.2438 - val_accuracy: 0.7310\n",
      "Epoch 2/20\n",
      "32/32 [==============================] - 1s 18ms/step - loss: 0.9308 - accuracy: 0.8073 - val_loss: 0.9907 - val_accuracy: 0.8000\n",
      "Epoch 3/20\n",
      "32/32 [==============================] - 1s 18ms/step - loss: 0.6078 - accuracy: 0.8826 - val_loss: 0.9041 - val_accuracy: 0.8030\n",
      "Epoch 4/20\n",
      "32/32 [==============================] - 1s 18ms/step - loss: 0.4264 - accuracy: 0.9136 - val_loss: 0.8327 - val_accuracy: 0.8250\n",
      "Epoch 5/20\n",
      "32/32 [==============================] - 1s 18ms/step - loss: 0.3136 - accuracy: 0.9346 - val_loss: 0.8166 - val_accuracy: 0.8320\n",
      "Epoch 6/20\n",
      "32/32 [==============================] - 1s 18ms/step - loss: 0.2437 - accuracy: 0.9441 - val_loss: 0.8352 - val_accuracy: 0.8320\n",
      "Epoch 7/20\n",
      "32/32 [==============================] - 1s 18ms/step - loss: 0.1997 - accuracy: 0.9488 - val_loss: 0.9100 - val_accuracy: 0.8110\n",
      "Epoch 8/20\n",
      "32/32 [==============================] - 1s 18ms/step - loss: 0.1718 - accuracy: 0.9511 - val_loss: 0.9058 - val_accuracy: 0.8150\n",
      "Epoch 9/20\n",
      "32/32 [==============================] - 1s 18ms/step - loss: 0.1561 - accuracy: 0.9554 - val_loss: 0.8783 - val_accuracy: 0.8260\n",
      "Epoch 10/20\n",
      "32/32 [==============================] - 1s 18ms/step - loss: 0.1399 - accuracy: 0.9558 - val_loss: 0.8959 - val_accuracy: 0.8160\n",
      "Epoch 11/20\n",
      "32/32 [==============================] - 1s 18ms/step - loss: 0.1305 - accuracy: 0.9569 - val_loss: 0.9813 - val_accuracy: 0.8100\n",
      "Epoch 12/20\n",
      "32/32 [==============================] - 1s 18ms/step - loss: 0.1237 - accuracy: 0.9573 - val_loss: 1.0192 - val_accuracy: 0.8080\n",
      "Epoch 13/20\n",
      "32/32 [==============================] - 1s 18ms/step - loss: 0.1224 - accuracy: 0.9551 - val_loss: 0.9735 - val_accuracy: 0.8100\n",
      "Epoch 14/20\n",
      "32/32 [==============================] - 1s 18ms/step - loss: 0.1191 - accuracy: 0.9545 - val_loss: 0.9907 - val_accuracy: 0.8140\n",
      "Epoch 15/20\n",
      "32/32 [==============================] - 1s 18ms/step - loss: 0.1132 - accuracy: 0.9569 - val_loss: 1.0484 - val_accuracy: 0.8100\n",
      "Epoch 16/20\n",
      "32/32 [==============================] - 1s 18ms/step - loss: 0.1114 - accuracy: 0.9531 - val_loss: 1.0527 - val_accuracy: 0.8110\n",
      "Epoch 17/20\n",
      "32/32 [==============================] - 1s 17ms/step - loss: 0.1113 - accuracy: 0.9546 - val_loss: 1.0597 - val_accuracy: 0.8080\n",
      "Epoch 18/20\n",
      "32/32 [==============================] - 1s 18ms/step - loss: 0.1051 - accuracy: 0.9582 - val_loss: 1.0890 - val_accuracy: 0.7990\n",
      "Epoch 19/20\n",
      "32/32 [==============================] - 1s 18ms/step - loss: 0.1068 - accuracy: 0.9570 - val_loss: 1.1417 - val_accuracy: 0.8060\n",
      "Epoch 20/20\n",
      "32/32 [==============================] - 1s 18ms/step - loss: 0.1067 - accuracy: 0.9562 - val_loss: 1.1468 - val_accuracy: 0.8030\n"
     ]
    },
    {
     "data": {
      "text/plain": [
       "<tensorflow.python.keras.callbacks.History at 0x7f7b228fd9d0>"
      ]
     },
     "execution_count": 33,
     "metadata": {},
     "output_type": "execute_result"
    }
   ],
   "source": [
    "model = models.Sequential()\n",
    "model.add(layers.Dense(128, activation='relu', input_shape=(10000,)))\n",
    "model.add(layers.Dense(46, activation='softmax'))\n",
    "\n",
    "model.compile(optimizer='rmsprop',\n",
    "             loss='categorical_crossentropy',\n",
    "             metrics=['accuracy'])\n",
    "\n",
    "model.fit(partial_x_train,\n",
    "         partial_y_train,\n",
    "         epochs=20,\n",
    "         batch_size=256,\n",
    "         validation_data=(x_val, y_val))"
   ]
  },
  {
   "cell_type": "code",
   "execution_count": 34,
   "metadata": {},
   "outputs": [],
   "source": [
    "predictions = model.predict(x_test)"
   ]
  },
  {
   "cell_type": "code",
   "execution_count": 35,
   "metadata": {},
   "outputs": [
    {
     "data": {
      "text/plain": [
       "3"
      ]
     },
     "execution_count": 35,
     "metadata": {},
     "output_type": "execute_result"
    }
   ],
   "source": [
    "np.argmax(predictions[0])"
   ]
  },
  {
   "cell_type": "code",
   "execution_count": null,
   "metadata": {},
   "outputs": [],
   "source": [
    "# One more time with 3 layers"
   ]
  },
  {
   "cell_type": "code",
   "execution_count": 39,
   "metadata": {},
   "outputs": [
    {
     "name": "stdout",
     "output_type": "stream",
     "text": [
      "Epoch 1/10\n",
      "32/32 [==============================] - 1s 23ms/step - loss: 1.8657 - acc: 0.5895 - val_loss: 1.3452 - val_acc: 0.7150\n",
      "Epoch 2/10\n",
      "32/32 [==============================] - 1s 25ms/step - loss: 0.9709 - acc: 0.7816 - val_loss: 1.0445 - val_acc: 0.7580\n",
      "Epoch 3/10\n",
      "32/32 [==============================] - 1s 17ms/step - loss: 0.6349 - acc: 0.8534 - val_loss: 1.0951 - val_acc: 0.7650\n",
      "Epoch 4/10\n",
      "32/32 [==============================] - 1s 19ms/step - loss: 0.4212 - acc: 0.9078 - val_loss: 1.0543 - val_acc: 0.7760\n",
      "Epoch 5/10\n",
      "32/32 [==============================] - 1s 21ms/step - loss: 0.3035 - acc: 0.9347 - val_loss: 1.0880 - val_acc: 0.7830\n",
      "Epoch 6/10\n",
      "32/32 [==============================] - 1s 18ms/step - loss: 0.2272 - acc: 0.9449 - val_loss: 1.1697 - val_acc: 0.7690\n",
      "Epoch 7/10\n",
      "32/32 [==============================] - 1s 19ms/step - loss: 0.1925 - acc: 0.9508 - val_loss: 1.0653 - val_acc: 0.8030\n",
      "Epoch 8/10\n",
      "32/32 [==============================] - 1s 19ms/step - loss: 0.1665 - acc: 0.9525 - val_loss: 1.0196 - val_acc: 0.8030\n",
      "Epoch 9/10\n",
      "32/32 [==============================] - 1s 20ms/step - loss: 0.1498 - acc: 0.9544 - val_loss: 1.2301 - val_acc: 0.7550\n",
      "Epoch 10/10\n",
      "32/32 [==============================] - 1s 19ms/step - loss: 0.1348 - acc: 0.9558 - val_loss: 1.1313 - val_acc: 0.7960\n"
     ]
    },
    {
     "data": {
      "text/plain": [
       "<tensorflow.python.keras.callbacks.History at 0x7f7b22ceebe0>"
      ]
     },
     "execution_count": 39,
     "metadata": {},
     "output_type": "execute_result"
    }
   ],
   "source": [
    "model = models.Sequential()\n",
    "model.add(layers.Dense(128, activation='relu', input_shape=(10000,)))\n",
    "model.add(layers.Dense(128, activation='relu'))\n",
    "model.add(layers.Dense(128, activation='relu'))\n",
    "model.add(layers.Dense(46, activation='softmax'))\n",
    "\n",
    "model.compile(optimizer='rmsprop',\n",
    "             loss='categorical_crossentropy',\n",
    "             metrics=['acc'])\n",
    "\n",
    "model.fit(partial_x_train,\n",
    "         partial_y_train,\n",
    "         epochs=10,\n",
    "         batch_size=256,\n",
    "         validation_data=(x_val, y_val))"
   ]
  },
  {
   "cell_type": "code",
   "execution_count": null,
   "metadata": {},
   "outputs": [],
   "source": []
  }
 ],
 "metadata": {
  "kernelspec": {
   "display_name": "Python 3",
   "language": "python",
   "name": "python3"
  },
  "language_info": {
   "codemirror_mode": {
    "name": "ipython",
    "version": 3
   },
   "file_extension": ".py",
   "mimetype": "text/x-python",
   "name": "python",
   "nbconvert_exporter": "python",
   "pygments_lexer": "ipython3",
   "version": "3.8.5"
  }
 },
 "nbformat": 4,
 "nbformat_minor": 4
}
